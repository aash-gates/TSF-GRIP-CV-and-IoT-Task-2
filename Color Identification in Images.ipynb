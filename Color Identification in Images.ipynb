{
 "cells": [
  {
   "cell_type": "markdown",
   "source": [
    "### THE SPARK FOUNDATION INTERNSHIP\r\n",
    "\r\n",
    "#### Name:   Aashik J Krishnan\r\n",
    "\r\n",
    "#### Domain:  Computer Vision & IOT"
   ],
   "metadata": {}
  },
  {
   "cell_type": "markdown",
   "source": [
    "Aash have used KMeans Clustering Algorithm for colors Detection in images"
   ],
   "metadata": {}
  },
  {
   "cell_type": "markdown",
   "source": [
    "#### Step-1: Importing Libraries"
   ],
   "metadata": {}
  },
  {
   "cell_type": "code",
   "execution_count": null,
   "source": [
    "import os\r\n",
    "import cv2\r\n",
    "import numpy as np\r\n",
    "import matplotlib.pyplot as plt\r\n",
    "from collections import Counter\r\n",
    "from sklearn.cluster import KMeans\r\n",
    "from skimage.color import rgb2lab, deltaE_cie76"
   ],
   "outputs": [],
   "metadata": {}
  },
  {
   "cell_type": "markdown",
   "source": [
    "#### Step-2: Reading image"
   ],
   "metadata": {}
  },
  {
   "cell_type": "code",
   "execution_count": null,
   "source": [
    "image = cv2.imread('sample_image.jpg')\r\n",
    "plt.imshow(image)\r\n",
    "plt.show()"
   ],
   "outputs": [],
   "metadata": {}
  },
  {
   "cell_type": "markdown",
   "source": [
    "#### Step-3: Checking Type and Shape of image Data"
   ],
   "metadata": {}
  },
  {
   "cell_type": "code",
   "execution_count": null,
   "source": [
    "print(\"The type of this input is {}\".format(type(image)))\r\n",
    "print(\"Shape: {}\".format(image.shape))"
   ],
   "outputs": [],
   "metadata": {}
  },
  {
   "cell_type": "markdown",
   "source": [
    "#### NOTE"
   ],
   "metadata": {}
  },
  {
   "cell_type": "markdown",
   "source": [
    "We can see that the image has different colors as compared to the original image. This is because by default OpenCV reads the images in the color order \"Blue-Green-RED\" i.e. BGR. Thus, we need to convert it into \"RED GREEN BLUE\" i.e. RGB."
   ],
   "metadata": {}
  },
  {
   "cell_type": "markdown",
   "source": [
    "#### Step-4: Converting BGR-To-RGB"
   ],
   "metadata": {}
  },
  {
   "cell_type": "code",
   "execution_count": null,
   "source": [
    "image = cv2.cvtColor(image, cv2.COLOR_BGR2RGB)\r\n",
    "plt.imshow(image)\r\n",
    "plt.show()"
   ],
   "outputs": [],
   "metadata": {}
  },
  {
   "cell_type": "markdown",
   "source": [
    "#### Note:"
   ],
   "metadata": {}
  },
  {
   "cell_type": "markdown",
   "source": [
    "Now we need to convert RGB image to grayscale becuase in RGB image we have 3 channel so computer need more time and memory to understand what's inside image but with grayscale we only left with 2d array so it's easy for computer to understand"
   ],
   "metadata": {}
  },
  {
   "cell_type": "markdown",
   "source": [
    "#### Step-5: Converting Image to GrayScale"
   ],
   "metadata": {}
  },
  {
   "cell_type": "code",
   "execution_count": null,
   "source": [
    "gray_image = cv2.cvtColor(image, cv2.COLOR_BGR2GRAY)\r\n",
    "plt.imshow(gray_image, cmap='gray')\r\n",
    "plt.show()"
   ],
   "outputs": [],
   "metadata": {}
  },
  {
   "cell_type": "markdown",
   "source": [
    "#### Note"
   ],
   "metadata": {}
  },
  {
   "cell_type": "markdown",
   "source": [
    "We need to resize the image to a certain size becuase we have images that are huge in size with different dimensions."
   ],
   "metadata": {}
  },
  {
   "cell_type": "markdown",
   "source": [
    "#### Step-6: Resizing Images"
   ],
   "metadata": {}
  },
  {
   "cell_type": "code",
   "execution_count": null,
   "source": [
    "resized_image = cv2.resize(image, (1200, 600))\r\n",
    "plt.imshow(resized_image)\r\n",
    "plt.show()"
   ],
   "outputs": [],
   "metadata": {}
  },
  {
   "cell_type": "markdown",
   "source": [
    "#### Step-7:Let us start color Identification"
   ],
   "metadata": {}
  },
  {
   "cell_type": "markdown",
   "source": [
    "First, we will define a function that can give us the `hex` values of our the colors that we will identify."
   ],
   "metadata": {}
  },
  {
   "cell_type": "code",
   "execution_count": null,
   "source": [
    "def RGB2HEX(color):\r\n",
    "    return \"#{:02x}{:02x}{:02x}\".format(int(color[0]), int(color[1]), int(color[2]))"
   ],
   "outputs": [],
   "metadata": {}
  },
  {
   "cell_type": "markdown",
   "source": [
    "#### Note"
   ],
   "metadata": {}
  },
  {
   "cell_type": "markdown",
   "source": [
    "KMeans expects flattened array as input during its fit method. \n",
    "Thus, we need to reshape the image using numpy. \n",
    "Then, we can apply KMeans to first fit and then predict on the image to get the results. \n",
    "Then, the cluster colors are identified an arranged in the correct order. We plot the colors as a pie chart.\n",
    "I have combined all the steps in two method."
   ],
   "metadata": {}
  },
  {
   "cell_type": "markdown",
   "source": [
    "#### Step-8: Defining method for getting images & Conversion from BGR-TO-RGB"
   ],
   "metadata": {}
  },
  {
   "cell_type": "code",
   "execution_count": null,
   "source": [
    "def get_image(image_path):\r\n",
    "    image = cv2.imread(image_path)\r\n",
    "    image = cv2.cvtColor(image, cv2.COLOR_BGR2RGB)\r\n",
    "    return image"
   ],
   "outputs": [],
   "metadata": {}
  },
  {
   "cell_type": "markdown",
   "source": [
    "#### Step-9: Defining method along with K_Means Algorithm"
   ],
   "metadata": {}
  },
  {
   "cell_type": "markdown",
   "source": [
    "First we need to resize data into same size, then converting into array on which i fitted model"
   ],
   "metadata": {}
  },
  {
   "cell_type": "code",
   "execution_count": null,
   "source": [
    "def get_colors(image, number_of_colors, show_chart): \r\n",
    "    \r\n",
    "    modified_image = cv2.resize(image, (600, 400), interpolation = cv2.INTER_AREA)\r\n",
    "    modified_image = modified_image.reshape(modified_image.shape[0]*modified_image.shape[1], 3)\r\n",
    "    \r\n",
    "    clf = KMeans(n_clusters = number_of_colors)\r\n",
    "    labels = clf.fit_predict(modified_image)\r\n",
    "    \r\n",
    "    counts = Counter(labels)\r\n",
    "    counts = dict(sorted(counts.items()))\r\n",
    "    \r\n",
    "    center_colors = clf.cluster_centers_\r\n",
    "    ordered_colors = [center_colors[i] for i in counts.keys()]\r\n",
    "    \r\n",
    "    hex_colors = [RGB2HEX(ordered_colors[i]) for i in counts.keys()]\r\n",
    "    rgb_colors = [ordered_colors[i] for i in counts.keys()]\r\n",
    "    \r\n",
    "    if (show_chart):\r\n",
    "        plt.figure(figsize = (8, 6))\r\n",
    "        plt.pie(counts.values(), labels = hex_colors, colors = hex_colors)\r\n",
    "    \r\n",
    "    return rgb_colors"
   ],
   "outputs": [],
   "metadata": {}
  },
  {
   "cell_type": "markdown",
   "source": [
    "#### Step-10: Calling Above Two Functions inside each other"
   ],
   "metadata": {}
  },
  {
   "cell_type": "code",
   "execution_count": null,
   "source": [
    "get_colors(get_image('sample_image.jpg'), 8, True)"
   ],
   "outputs": [],
   "metadata": {}
  },
  {
   "cell_type": "markdown",
   "source": [
    "#### Step-11: Search images using Color"
   ],
   "metadata": {}
  },
  {
   "cell_type": "markdown",
   "source": [
    "From the model above, we can extract the major colors. \n",
    "This create the opportunity to search for images based on certain colors. We can select a color and if it's hex matches or is close to the hex of the major colors of the image, we say it's a match.\n",
    "We first get all the images and store them in the \"images\" variable."
   ],
   "metadata": {}
  },
  {
   "cell_type": "code",
   "execution_count": null,
   "source": [
    "IMAGE_DIRECTORY = 'images'\r\n",
    "\r\n",
    "COLORS = {'GREEN': [0, 128, 0],'BLUE': [0, 0, 128],'YELLOW': [255, 255, 0]}\r\n",
    "\r\n",
    "images = []\r\n",
    "\r\n",
    "for file in os.listdir(IMAGE_DIRECTORY):\r\n",
    "    if not file.startswith('.'):\r\n",
    "        images.append(get_image(os.path.join(IMAGE_DIRECTORY, file)))"
   ],
   "outputs": [],
   "metadata": {}
  },
  {
   "cell_type": "markdown",
   "source": [
    "#### Step-12: Visualization of Data"
   ],
   "metadata": {}
  },
  {
   "cell_type": "code",
   "execution_count": null,
   "source": [
    "plt.figure(figsize=(20, 5))\r\n",
    "for i in range(len(images)):\r\n",
    "    plt.subplot(1, len(images), i+1)\r\n",
    "    plt.imshow(images[i])\r\n",
    "    plt.axis('off')"
   ],
   "outputs": [],
   "metadata": {}
  },
  {
   "cell_type": "markdown",
   "source": [
    "#### Step-13: Function for finding matches by using top 10 colors in images"
   ],
   "metadata": {}
  },
  {
   "cell_type": "markdown",
   "source": [
    "I define the function below. I will try to match with the top 10 colors of the image. It is highly possible that there will be no extact match for the hex codes, thus we calculate the similarity between the chosen color and the colors of the image. We keep a threshold value such that if the difference between the chosen color and any of the selected colors is less than that threshold, we declare it as a match. Hex values or RGB values cannot be directly compared so I first convert them to a device independant and color uniform space. We use \"RGB2LAB\" to convert the values and then find the difference using \"deltaE_cie76\". The method calculates the difference between all top 5 colors of the image and the selected color and if atleast one is below the threshold, we show the image."
   ],
   "metadata": {}
  },
  {
   "cell_type": "code",
   "execution_count": null,
   "source": [
    "def match_image_by_color(image, color, threshold = 60, number_of_colors = 10): \r\n",
    "    \r\n",
    "    image_colors = get_colors(image, number_of_colors, False)\r\n",
    "    selected_color = rgb2lab(np.uint8(np.asarray([[color]])))\r\n",
    "\r\n",
    "    select_image = False\r\n",
    "    \r\n",
    "    for i in range(number_of_colors):\r\n",
    "        \r\n",
    "        curr_color = rgb2lab(np.uint8(np.asarray([[image_colors[i]]])))\r\n",
    "        diff = deltaE_cie76(selected_color, curr_color)\r\n",
    "        \r\n",
    "        if (diff < threshold):\r\n",
    "            select_image = True\r\n",
    "    \r\n",
    "    return select_image"
   ],
   "outputs": [],
   "metadata": {}
  },
  {
   "cell_type": "markdown",
   "source": [
    "#### Step-14: Function for selection of images (Match/Mismatch)"
   ],
   "metadata": {}
  },
  {
   "cell_type": "markdown",
   "source": [
    "I call the above method for all the images in our set and show relevant images out of the same that approximately match our selected color."
   ],
   "metadata": {}
  },
  {
   "cell_type": "code",
   "execution_count": null,
   "source": [
    "def show_selected_images(images, color, threshold, colors_to_match):\r\n",
    "    index = 1\r\n",
    "    \r\n",
    "    for i in range(len(images)):\r\n",
    "        selected = match_image_by_color(images[i],\r\n",
    "                                        color,\r\n",
    "                                        threshold,\r\n",
    "                                        colors_to_match)\r\n",
    "        if (selected):\r\n",
    "            plt.subplot(1, 5, index)\r\n",
    "            plt.imshow(images[i])\r\n",
    "            plt.axis('off')\r\n",
    "            index += 1"
   ],
   "outputs": [],
   "metadata": {}
  },
  {
   "cell_type": "markdown",
   "source": [
    "#### Step-15:Calling above methods and visualizing results"
   ],
   "metadata": {}
  },
  {
   "cell_type": "markdown",
   "source": [
    "Finding GREEN COLOR"
   ],
   "metadata": {}
  },
  {
   "cell_type": "code",
   "execution_count": null,
   "source": [
    "plt.figure(figsize = (20, 8))\r\n",
    "show_selected_images(images, COLORS['GREEN'], 60, 5)"
   ],
   "outputs": [],
   "metadata": {}
  },
  {
   "cell_type": "markdown",
   "source": [
    "Finding Blue Color"
   ],
   "metadata": {}
  },
  {
   "cell_type": "code",
   "execution_count": null,
   "source": [
    "plt.figure(figsize = (20, 10))\r\n",
    "show_selected_images(images, COLORS['BLUE'], 60, 5)"
   ],
   "outputs": [],
   "metadata": {}
  },
  {
   "cell_type": "markdown",
   "source": [
    "Finding Yellow Color"
   ],
   "metadata": {}
  },
  {
   "cell_type": "code",
   "execution_count": null,
   "source": [
    "plt.figure(figsize = (20, 10))\r\n",
    "show_selected_images(images, COLORS['YELLOW'], 60, 5)"
   ],
   "outputs": [],
   "metadata": {}
  },
  {
   "cell_type": "markdown",
   "source": [
    "#### Conclusion"
   ],
   "metadata": {}
  },
  {
   "cell_type": "markdown",
   "source": [
    "I have used KMeans Clustering Algorithm to extract majority colors from images. \n",
    "\n",
    "then I used the RGB Values of Colors to identify images from a collection that have that color in them."
   ],
   "metadata": {}
  }
 ],
 "metadata": {
  "kernelspec": {
   "name": "python3",
   "display_name": "Python 3.8.8 64-bit ('base': conda)"
  },
  "language_info": {
   "codemirror_mode": {
    "name": "ipython",
    "version": 3
   },
   "file_extension": ".py",
   "mimetype": "text/x-python",
   "name": "python",
   "nbconvert_exporter": "python",
   "pygments_lexer": "ipython3",
   "version": "3.8.8"
  },
  "interpreter": {
   "hash": "8c627980ff55dac447dd57654dda649d9e31abd1d72710c3dccf6602a8a84c0d"
  }
 },
 "nbformat": 4,
 "nbformat_minor": 2
}